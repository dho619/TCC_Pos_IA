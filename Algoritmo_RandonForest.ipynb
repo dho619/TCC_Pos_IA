{
  "nbformat": 4,
  "nbformat_minor": 0,
  "metadata": {
    "colab": {
      "provenance": [],
      "authorship_tag": "ABX9TyOPJQRZ4nMtYUNEFfVVZSUZ",
      "include_colab_link": true
    },
    "kernelspec": {
      "name": "python3",
      "display_name": "Python 3"
    },
    "language_info": {
      "name": "python"
    }
  },
  "cells": [
    {
      "cell_type": "markdown",
      "metadata": {
        "id": "view-in-github",
        "colab_type": "text"
      },
      "source": [
        "<a href=\"https://colab.research.google.com/github/dho619/TCC_Pos_IA/blob/main/Algoritmo_RandonForest.ipynb\" target=\"_parent\"><img src=\"https://colab.research.google.com/assets/colab-badge.svg\" alt=\"Open In Colab\"/></a>"
      ]
    },
    {
      "cell_type": "code",
      "source": [
        "import pandas as pd\n",
        "import numpy as np\n",
        "from sklearn.linear_model import LinearRegression\n",
        "from sklearn.ensemble import RandomForestRegressor\n",
        "from sklearn.tree import DecisionTreeRegressor\n",
        "from sklearn.metrics import r2_score, mean_absolute_error, mean_squared_error\n",
        "import matplotlib.pyplot as plt"
      ],
      "metadata": {
        "id": "T8JknplPZ2Hl"
      },
      "execution_count": null,
      "outputs": []
    },
    {
      "cell_type": "code",
      "source": [
        "#Para documentação de passo a passo e justificativa dessa função, pode encontrá-la no arquivo TratamentoDosDados.ipynb\n",
        "def TratarDadosBaseWalmart(df):\n",
        "  df.Date=pd.to_datetime(df.Date, format='%d-%m-%Y')\n",
        "  df['Day'] = df.Date.dt.day\n",
        "  df['Month'] = df.Date.dt.month\n",
        "  df['Year'] = df.Date.dt.year\n",
        "  df.drop(['Date'], axis=1, inplace=True)\n",
        "\n",
        "  df.drop_duplicates(inplace=True)\n",
        "\n",
        "  ignoreFeatures = ['Weekly_Sales', 'Day']\n",
        "  maximumToBeCategorical = 45\n",
        "  features = [i for i in df.columns if i not in ignoreFeatures]\n",
        "  uniqueValuesForFeature = df[features].nunique().sort_values()\n",
        "  categoricalFeature = [];\n",
        "  valuesFeature = [];\n",
        "  for i in range(df[features].shape[1]):\n",
        "      if uniqueValuesForFeature.values[i]<=maximumToBeCategorical:\n",
        "          categoricalFeature.append(uniqueValuesForFeature.index[i])\n",
        "      else:\n",
        "          valuesFeature.append(uniqueValuesForFeature.index[i])\n",
        "  for i in categoricalFeature:\n",
        "    if df[i].nunique()==2:\n",
        "        df[i]=pd.get_dummies(df[i], drop_first=True, prefix=str(i))\n",
        "    if (df[i].nunique()>2):\n",
        "        df = pd.concat([df.drop([i], axis=1), pd.DataFrame(pd.get_dummies(df[i], prefix=str(i)))],axis=1)\n",
        "    \n",
        "  return df\n"
      ],
      "metadata": {
        "id": "I7sjxR7vZ4Gc"
      },
      "execution_count": null,
      "outputs": []
    },
    {
      "cell_type": "code",
      "source": [
        "#Para documentação de passo a passo e justificativa dessa função, pode encontrá-la no arquivo PreparaçãoDeDados.ipynb\n",
        "\n",
        "def PreparaDados(df):\n",
        "  target = 'Weekly_Sales'\n",
        "\n",
        "  filtro_treino = df[\"Year_2012\"] == 0\n",
        "  filtro_teste = df[\"Year_2012\"] == 1\n",
        "\n",
        "  train = df.where(filtro_treino).dropna()\n",
        "  test =  df.where(filtro_teste).dropna()\n",
        "\n",
        "  y_train = train[target].array\n",
        "  X_train = train.drop([target, \"Year_2010\", \"Year_2011\", \"Year_2012\"],axis=1)\n",
        "  \n",
        "\n",
        "  y_test = test[target].array\n",
        "  X_test = test.drop([target, \"Year_2010\", \"Year_2011\", \"Year_2012\"],axis=1)\n",
        "\n",
        "  X_train.reset_index(drop=True,inplace=True)\n",
        "\n",
        "  return X_train, X_test, y_train, y_test"
      ],
      "metadata": {
        "id": "nNWU6B3MZ5cU"
      },
      "execution_count": null,
      "outputs": []
    },
    {
      "cell_type": "code",
      "source": [
        "df = pd.read_csv('./Walmart.csv')\n",
        "df = TratarDadosBaseWalmart(df)\n",
        "\n",
        "X_train, X_test, y_train, y_test = PreparaDados(df)\n",
        "\n",
        "print('Base original  ---> ',df.shape,df.shape,'\\nBase de Treino  ---> ',X_train.shape,y_train.shape,'\\nBase de teste   ---> ', X_test.shape,'', y_test.shape)"
      ],
      "metadata": {
        "id": "jFt5uPrfZ-rk"
      },
      "execution_count": null,
      "outputs": []
    },
    {
      "cell_type": "code",
      "execution_count": null,
      "metadata": {
        "id": "x8t87MWMZwBl"
      },
      "outputs": [],
      "source": [
        "dt = DecisionTreeRegressor(random_state=0, min_samples_leaf=10, max_depth = 44)\n",
        "dt.fit(X_train, y_train)\n",
        "predictions = dt.predict(X_test)"
      ]
    },
    {
      "cell_type": "code",
      "source": [
        "r2_score(y_test, predictions), mean_absolute_error(y_test, predictions), np.sqrt(mean_squared_error(y_test, predictions))"
      ],
      "metadata": {
        "id": "I7h4PvxxaHFW"
      },
      "execution_count": null,
      "outputs": []
    },
    {
      "cell_type": "code",
      "source": [
        "plt.figure(figsize = (36, 10)) \n",
        "plt.plot(predictions, 'b')\n",
        "plt.plot(y_test, 'r')\n",
        "plt.title(\"Decision Tree Regressor\", fontsize=40)\n",
        "plt.xlabel(\"Valor\", fontsize=30)\n",
        "plt.ylabel(\"Valor de venda em milhões\", fontsize=30)\n",
        "\n",
        "plt.show()"
      ],
      "metadata": {
        "id": "EWgXMzPUaEy9"
      },
      "execution_count": null,
      "outputs": []
    },
    {
      "cell_type": "code",
      "source": [
        "regr = RandomForestRegressor(random_state=0, min_samples_leaf=25)\n",
        "regr.fit(X_train, y_train)\n",
        "#dt = DecisionTreeRegressor(random_state=0, min_samples_leaf=10, max_depth = 44)\n",
        "\n",
        "predictions = regr.predict(X_test)"
      ],
      "metadata": {
        "id": "sBmOG7MCaL92"
      },
      "execution_count": null,
      "outputs": []
    },
    {
      "cell_type": "code",
      "source": [
        "r2_score(y_test, predictions), mean_absolute_error(y_test, predictions), np.sqrt(mean_squared_error(y_test, predictions))"
      ],
      "metadata": {
        "id": "r6Z7n9n3aNmF"
      },
      "execution_count": null,
      "outputs": []
    },
    {
      "cell_type": "code",
      "source": [
        "plt.figure(figsize = (36, 10)) \n",
        "plt.plot(predictions, 'b')\n",
        "plt.plot(y_test, 'r')\n",
        "plt.title(\"Randon Forest Regressor\", fontsize=40)\n",
        "plt.xlabel(\"Valor\", fontsize=30)\n",
        "plt.ylabel(\"Valor de venda em milhões\", fontsize=30)\n",
        "\n",
        "plt.show()"
      ],
      "metadata": {
        "id": "NKF7Q6w4aN8M"
      },
      "execution_count": null,
      "outputs": []
    }
  ]
}