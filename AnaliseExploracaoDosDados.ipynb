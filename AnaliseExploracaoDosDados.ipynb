{
  "nbformat": 4,
  "nbformat_minor": 0,
  "metadata": {
    "colab": {
      "name": "AnaliseExploracaoDosDados.ipynb",
      "provenance": [],
      "authorship_tag": "ABX9TyPYI/Efgu9qCsw/Mx99sHJC",
      "include_colab_link": true
    },
    "kernelspec": {
      "name": "python3",
      "display_name": "Python 3"
    },
    "language_info": {
      "name": "python"
    }
  },
  "cells": [
    {
      "cell_type": "markdown",
      "metadata": {
        "id": "view-in-github",
        "colab_type": "text"
      },
      "source": [
        "<a href=\"https://colab.research.google.com/github/dho619/TCC_Pos_IA/blob/main/AnaliseExploracaoDosDados.ipynb\" target=\"_parent\"><img src=\"https://colab.research.google.com/assets/colab-badge.svg\" alt=\"Open In Colab\"/></a>"
      ]
    },
    {
      "cell_type": "code",
      "execution_count": 9,
      "metadata": {
        "colab": {
          "base_uri": "https://localhost:8080/"
        },
        "id": "3Vo2WNNCBVif",
        "outputId": "be54b5b2-f849-4486-ce76-624778d6f0e3"
      },
      "outputs": [
        {
          "output_type": "stream",
          "name": "stdout",
          "text": [
            "<class 'pandas.core.frame.DataFrame'>\n",
            "RangeIndex: 6435 entries, 0 to 6434\n",
            "Data columns (total 8 columns):\n",
            " #   Column        Non-Null Count  Dtype  \n",
            "---  ------        --------------  -----  \n",
            " 0   Store         6435 non-null   int64  \n",
            " 1   Date          6435 non-null   object \n",
            " 2   Weekly_Sales  6435 non-null   float64\n",
            " 3   Holiday_Flag  6435 non-null   int64  \n",
            " 4   Temperature   6435 non-null   float64\n",
            " 5   Fuel_Price    6435 non-null   float64\n",
            " 6   CPI           6435 non-null   float64\n",
            " 7   Unemployment  6435 non-null   float64\n",
            "dtypes: float64(5), int64(2), object(1)\n",
            "memory usage: 402.3+ KB\n"
          ]
        }
      ],
      "source": [
        "import pandas as pd\n",
        "df = pd.read_csv('./Walmart.csv')\n",
        "df.info()"
      ]
    },
    {
      "cell_type": "code",
      "source": [
        "#Para documentação de passo a passo e justificativa dessa função, pode encontrá-la no arquivo TratamentoDosDados.ipynb\n",
        "def TratarDadosBaseWalmart(df):\n",
        "  df.Date=pd.to_datetime(df.Date)\n",
        "  df['Day'] = df.Date.dt.day\n",
        "  df['Month'] = df.Date.dt.month\n",
        "  df['Year'] = df.Date.dt.year\n",
        "  df.drop(['Date'], axis=1, inplace=True)\n",
        "\n",
        "  df.drop_duplicates(inplace=True)\n",
        "\n",
        "  ignoreFeatures = ['Weekly_Sales', 'Day']\n",
        "  maximumToBeCategorical = 45\n",
        "  features = [i for i in df.columns if i not in ignoreFeatures]\n",
        "  uniqueValuesForFeature = df[features].nunique().sort_values()\n",
        "  categoricalFeature = [];\n",
        "  valuesFeature = [];\n",
        "  for i in range(df[features].shape[1]):\n",
        "      if uniqueValuesForFeature.values[i]<=maximumToBeCategorical:\n",
        "          categoricalFeature.append(uniqueValuesForFeature.index[i])\n",
        "      else:\n",
        "          valuesFeature.append(uniqueValuesForFeature.index[i])\n",
        "  for i in categoricalFeature:\n",
        "    if df[i].nunique()==2:\n",
        "        df[i]=pd.get_dummies(df[i], drop_first=True, prefix=str(i))\n",
        "    if (df[i].nunique()>2):\n",
        "        df = pd.concat([df.drop([i], axis=1), pd.DataFrame(pd.get_dummies(df[i], prefix=str(i)))],axis=1)\n",
        "    \n",
        "  return df"
      ],
      "metadata": {
        "id": "KZOH7JC8BZwM"
      },
      "execution_count": 8,
      "outputs": []
    },
    {
      "cell_type": "code",
      "source": [
        "df_original = df.copy(deep=True)\n",
        "df = TratarDadosBaseWalmart(df)\n",
        "df.info()"
      ],
      "metadata": {
        "colab": {
          "base_uri": "https://localhost:8080/"
        },
        "id": "52aw9sXzC03D",
        "outputId": "4e93c7a6-068d-47cd-84f3-3da3b5922117"
      },
      "execution_count": 10,
      "outputs": [
        {
          "output_type": "stream",
          "name": "stdout",
          "text": [
            "<class 'pandas.core.frame.DataFrame'>\n",
            "Int64Index: 6435 entries, 0 to 6434\n",
            "Data columns (total 67 columns):\n",
            " #   Column        Non-Null Count  Dtype  \n",
            "---  ------        --------------  -----  \n",
            " 0   Weekly_Sales  6435 non-null   float64\n",
            " 1   Holiday_Flag  6435 non-null   uint8  \n",
            " 2   Temperature   6435 non-null   float64\n",
            " 3   Fuel_Price    6435 non-null   float64\n",
            " 4   CPI           6435 non-null   float64\n",
            " 5   Unemployment  6435 non-null   float64\n",
            " 6   Day           6435 non-null   int64  \n",
            " 7   Year_2010     6435 non-null   uint8  \n",
            " 8   Year_2011     6435 non-null   uint8  \n",
            " 9   Year_2012     6435 non-null   uint8  \n",
            " 10  Month_1       6435 non-null   uint8  \n",
            " 11  Month_2       6435 non-null   uint8  \n",
            " 12  Month_3       6435 non-null   uint8  \n",
            " 13  Month_4       6435 non-null   uint8  \n",
            " 14  Month_5       6435 non-null   uint8  \n",
            " 15  Month_6       6435 non-null   uint8  \n",
            " 16  Month_7       6435 non-null   uint8  \n",
            " 17  Month_8       6435 non-null   uint8  \n",
            " 18  Month_9       6435 non-null   uint8  \n",
            " 19  Month_10      6435 non-null   uint8  \n",
            " 20  Month_11      6435 non-null   uint8  \n",
            " 21  Month_12      6435 non-null   uint8  \n",
            " 22  Store_1       6435 non-null   uint8  \n",
            " 23  Store_2       6435 non-null   uint8  \n",
            " 24  Store_3       6435 non-null   uint8  \n",
            " 25  Store_4       6435 non-null   uint8  \n",
            " 26  Store_5       6435 non-null   uint8  \n",
            " 27  Store_6       6435 non-null   uint8  \n",
            " 28  Store_7       6435 non-null   uint8  \n",
            " 29  Store_8       6435 non-null   uint8  \n",
            " 30  Store_9       6435 non-null   uint8  \n",
            " 31  Store_10      6435 non-null   uint8  \n",
            " 32  Store_11      6435 non-null   uint8  \n",
            " 33  Store_12      6435 non-null   uint8  \n",
            " 34  Store_13      6435 non-null   uint8  \n",
            " 35  Store_14      6435 non-null   uint8  \n",
            " 36  Store_15      6435 non-null   uint8  \n",
            " 37  Store_16      6435 non-null   uint8  \n",
            " 38  Store_17      6435 non-null   uint8  \n",
            " 39  Store_18      6435 non-null   uint8  \n",
            " 40  Store_19      6435 non-null   uint8  \n",
            " 41  Store_20      6435 non-null   uint8  \n",
            " 42  Store_21      6435 non-null   uint8  \n",
            " 43  Store_22      6435 non-null   uint8  \n",
            " 44  Store_23      6435 non-null   uint8  \n",
            " 45  Store_24      6435 non-null   uint8  \n",
            " 46  Store_25      6435 non-null   uint8  \n",
            " 47  Store_26      6435 non-null   uint8  \n",
            " 48  Store_27      6435 non-null   uint8  \n",
            " 49  Store_28      6435 non-null   uint8  \n",
            " 50  Store_29      6435 non-null   uint8  \n",
            " 51  Store_30      6435 non-null   uint8  \n",
            " 52  Store_31      6435 non-null   uint8  \n",
            " 53  Store_32      6435 non-null   uint8  \n",
            " 54  Store_33      6435 non-null   uint8  \n",
            " 55  Store_34      6435 non-null   uint8  \n",
            " 56  Store_35      6435 non-null   uint8  \n",
            " 57  Store_36      6435 non-null   uint8  \n",
            " 58  Store_37      6435 non-null   uint8  \n",
            " 59  Store_38      6435 non-null   uint8  \n",
            " 60  Store_39      6435 non-null   uint8  \n",
            " 61  Store_40      6435 non-null   uint8  \n",
            " 62  Store_41      6435 non-null   uint8  \n",
            " 63  Store_42      6435 non-null   uint8  \n",
            " 64  Store_43      6435 non-null   uint8  \n",
            " 65  Store_44      6435 non-null   uint8  \n",
            " 66  Store_45      6435 non-null   uint8  \n",
            "dtypes: float64(5), int64(1), uint8(61)\n",
            "memory usage: 735.2 KB\n"
          ]
        }
      ]
    },
    {
      "cell_type": "code",
      "source": [
        ""
      ],
      "metadata": {
        "id": "J2JUrz3vDFYa"
      },
      "execution_count": null,
      "outputs": []
    }
  ]
}