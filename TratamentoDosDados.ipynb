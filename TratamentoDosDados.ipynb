{
  "nbformat": 4,
  "nbformat_minor": 0,
  "metadata": {
    "colab": {
      "name": "TratamentoDosDados.ipynb",
      "provenance": [],
      "authorship_tag": "ABX9TyO7hZmPjR3WDmN8XhivC3uJ",
      "include_colab_link": true
    },
    "kernelspec": {
      "name": "python3",
      "display_name": "Python 3"
    },
    "language_info": {
      "name": "python"
    }
  },
  "cells": [
    {
      "cell_type": "markdown",
      "metadata": {
        "id": "view-in-github",
        "colab_type": "text"
      },
      "source": [
        "<a href=\"https://colab.research.google.com/github/dho619/TCC_Pos_IA/blob/main/TratamentoDosDados.ipynb\" target=\"_parent\"><img src=\"https://colab.research.google.com/assets/colab-badge.svg\" alt=\"Open In Colab\"/></a>"
      ]
    },
    {
      "cell_type": "code",
      "execution_count": 1,
      "metadata": {
        "id": "OZgv7Q0bnWWT"
      },
      "outputs": [],
      "source": [
        "import numpy as np\n",
        "import pandas as pd"
      ]
    },
    {
      "cell_type": "code",
      "source": [
        "df = pd.read_csv('./Walmart.csv')"
      ],
      "metadata": {
        "id": "i6sa-Tkz6Og2"
      },
      "execution_count": 29,
      "outputs": []
    },
    {
      "cell_type": "code",
      "source": [
        "df.info()"
      ],
      "metadata": {
        "id": "0DU4vl7w75S4",
        "outputId": "e66adfeb-5137-4147-f426-2938bc980b95",
        "colab": {
          "base_uri": "https://localhost:8080/"
        }
      },
      "execution_count": 30,
      "outputs": [
        {
          "output_type": "stream",
          "name": "stdout",
          "text": [
            "<class 'pandas.core.frame.DataFrame'>\n",
            "RangeIndex: 6435 entries, 0 to 6434\n",
            "Data columns (total 8 columns):\n",
            " #   Column        Non-Null Count  Dtype  \n",
            "---  ------        --------------  -----  \n",
            " 0   Store         6435 non-null   int64  \n",
            " 1   Date          6435 non-null   object \n",
            " 2   Weekly_Sales  6435 non-null   float64\n",
            " 3   Holiday_Flag  6435 non-null   int64  \n",
            " 4   Temperature   6435 non-null   float64\n",
            " 5   Fuel_Price    6435 non-null   float64\n",
            " 6   CPI           6435 non-null   float64\n",
            " 7   Unemployment  6435 non-null   float64\n",
            "dtypes: float64(5), int64(2), object(1)\n",
            "memory usage: 402.3+ KB\n"
          ]
        }
      ]
    },
    {
      "cell_type": "code",
      "source": [
        "#transformando o campo de date que estava como object, para datetime\n",
        "df.Date=pd.to_datetime(df.Date)\n",
        "\n",
        "#separando a data em 3 colunas (dia, mês e ano)\n",
        "df['Day'] = df.Date.dt.day\n",
        "df['Month'] = df.Date.dt.month\n",
        "df['Year'] = df.Date.dt.year\n",
        "\n",
        "#removendo a coluna de data original\n",
        "df.drop(['Date'], axis=1, inplace=True)\n",
        "\n",
        "df.head"
      ],
      "metadata": {
        "id": "Admo0v9m8ano",
        "outputId": "83e8c4d9-c9d4-47eb-aadf-6345e4758de2",
        "colab": {
          "base_uri": "https://localhost:8080/"
        }
      },
      "execution_count": 34,
      "outputs": [
        {
          "output_type": "execute_result",
          "data": {
            "text/plain": [
              "<bound method NDFrame.head of       Store  Weekly_Sales  Holiday_Flag  Temperature  Fuel_Price         CPI  \\\n",
              "0         1    1643690.90             0        42.31       2.572  211.096358   \n",
              "1         1    1641957.44             1        38.51       2.548  211.242170   \n",
              "2         1    1611968.17             0        39.93       2.514  211.289143   \n",
              "3         1    1409727.59             0        46.63       2.561  211.319643   \n",
              "4         1    1554806.68             0        46.50       2.625  211.350143   \n",
              "...     ...           ...           ...          ...         ...         ...   \n",
              "6430     45     713173.95             0        64.88       3.997  192.013558   \n",
              "6431     45     733455.07             0        64.89       3.985  192.170412   \n",
              "6432     45     734464.36             0        54.47       4.000  192.327265   \n",
              "6433     45     718125.53             0        56.47       3.969  192.330854   \n",
              "6434     45     760281.43             0        58.85       3.882  192.308899   \n",
              "\n",
              "      Unemployment  day  month  year  \n",
              "0            8.106    2      5  2010  \n",
              "1            8.106    2     12  2010  \n",
              "2            8.106   19      2  2010  \n",
              "3            8.106   26      2  2010  \n",
              "4            8.106    3      5  2010  \n",
              "...            ...  ...    ...   ...  \n",
              "6430         8.684   28      9  2012  \n",
              "6431         8.667   10      5  2012  \n",
              "6432         8.667   10     12  2012  \n",
              "6433         8.667   19     10  2012  \n",
              "6434         8.667   26     10  2012  \n",
              "\n",
              "[6435 rows x 10 columns]>"
            ]
          },
          "metadata": {},
          "execution_count": 34
        }
      ]
    },
    {
      "cell_type": "code",
      "source": [
        "df.info()"
      ],
      "metadata": {
        "id": "Z8yvYhpLDUaI",
        "outputId": "13b45255-0b95-4d4e-a82e-5b472b202e0d",
        "colab": {
          "base_uri": "https://localhost:8080/"
        }
      },
      "execution_count": 35,
      "outputs": [
        {
          "output_type": "stream",
          "name": "stdout",
          "text": [
            "<class 'pandas.core.frame.DataFrame'>\n",
            "RangeIndex: 6435 entries, 0 to 6434\n",
            "Data columns (total 10 columns):\n",
            " #   Column        Non-Null Count  Dtype  \n",
            "---  ------        --------------  -----  \n",
            " 0   Store         6435 non-null   int64  \n",
            " 1   Weekly_Sales  6435 non-null   float64\n",
            " 2   Holiday_Flag  6435 non-null   int64  \n",
            " 3   Temperature   6435 non-null   float64\n",
            " 4   Fuel_Price    6435 non-null   float64\n",
            " 5   CPI           6435 non-null   float64\n",
            " 6   Unemployment  6435 non-null   float64\n",
            " 7   day           6435 non-null   int64  \n",
            " 8   month         6435 non-null   int64  \n",
            " 9   year          6435 non-null   int64  \n",
            "dtypes: float64(5), int64(5)\n",
            "memory usage: 502.9 KB\n"
          ]
        }
      ]
    },
    {
      "cell_type": "code",
      "source": [
        "#Fazendo uma cópia para manter o Data Frame original\n",
        "original_df = df.copy(deep=True);"
      ],
      "metadata": {
        "id": "ndH_LAFH-Y6J"
      },
      "execution_count": 36,
      "outputs": []
    },
    {
      "cell_type": "code",
      "source": [
        "#pegando o shape\n",
        "rows,cols = original_df.shape;\n",
        "\n",
        "#removendo linhas duplicadas\n",
        "df.drop_duplicates(inplace=True);\n",
        "\n",
        "if df.shape==(rows,cols):\n",
        "    print(\"Não existe linhas duplicadas\");\n",
        "else:\n",
        "    print(\"Foram removidas {} linhas duplicadas!\".format(rows-df.shape[0]));"
      ],
      "metadata": {
        "id": "LPhew7_6_xyh",
        "outputId": "559a19ae-3ac7-451c-fda0-37a76adc4920",
        "colab": {
          "base_uri": "https://localhost:8080/"
        }
      },
      "execution_count": 37,
      "outputs": [
        {
          "output_type": "stream",
          "name": "stdout",
          "text": [
            "Não existe linhas duplicadas\n"
          ]
        }
      ]
    },
    {
      "cell_type": "code",
      "source": [
        "#Verificando se existe valores null, nesse caso não tem\n",
        "df.isnull().sum().sort_values()"
      ],
      "metadata": {
        "id": "366kayILAFWY",
        "outputId": "5b3998bd-7244-47a6-994c-39d5b5bf17b3",
        "colab": {
          "base_uri": "https://localhost:8080/"
        }
      },
      "execution_count": 38,
      "outputs": [
        {
          "output_type": "execute_result",
          "data": {
            "text/plain": [
              "Store           0\n",
              "Weekly_Sales    0\n",
              "Holiday_Flag    0\n",
              "Temperature     0\n",
              "Fuel_Price      0\n",
              "CPI             0\n",
              "Unemployment    0\n",
              "day             0\n",
              "month           0\n",
              "year            0\n",
              "dtype: int64"
            ]
          },
          "metadata": {},
          "execution_count": 38
        }
      ]
    },
    {
      "cell_type": "code",
      "source": [
        "#Ignorar as colunas\n",
        "ignoreFeatures = ['Weekly_Sales', 'day'];\n",
        "#variável para definir até quantos valores unicos uma coluna pode ter e ainda considerada categorical\n",
        "maximumToBeCategorical = 45; #45 por ser o total de lojas\n",
        "\n",
        "#pegar as colunas, menos as ignoradas\n",
        "features = [i for i in df.columns if i not in ignoreFeatures]\n",
        "\n",
        "#pega a quantidade de valores unicos para cara coluna\n",
        "uniqueValuesForFeature = df[features].nunique().sort_values()\n",
        "\n",
        "#Adiciona nas lista se for uma coluna de categorias ou de valores\n",
        "categoricalFeature = [];\n",
        "valuesFeature = [];\n",
        "for i in range(df[features].shape[1]):\n",
        "    if uniqueValuesForFeature.values[i]<=maximumToBeCategorical:\n",
        "        categoricalFeature.append(uniqueValuesForFeature.index[i])\n",
        "    else:\n",
        "        valuesFeature.append(uniqueValuesForFeature.index[i])\n",
        "print(categoricalFeature)\n",
        "print(valuesFeature)"
      ],
      "metadata": {
        "colab": {
          "base_uri": "https://localhost:8080/"
        },
        "id": "vQz2nKoFE8n4",
        "outputId": "ca9176f0-c5b8-41a6-9104-69fb917b43cb"
      },
      "execution_count": 67,
      "outputs": [
        {
          "output_type": "stream",
          "name": "stdout",
          "text": [
            "['Holiday_Flag', 'year', 'month', 'Store']\n",
            "['Unemployment', 'Fuel_Price', 'CPI', 'Temperature']\n"
          ]
        }
      ]
    },
    {
      "cell_type": "code",
      "source": [
        "df2 = df.copy()\n",
        "\n",
        "#Transforma cada valor unico das colunas selecionadas, em novas colunas\n",
        "#e seta como true ou false, de acordo com o valor original\n",
        "for i in categoricalFeature:\n",
        "    if df2[i].nunique()==2:\n",
        "        df2[i]=pd.get_dummies(df2[i], drop_first=True, prefix=str(i))\n",
        "    if (df2[i].nunique()>2):\n",
        "        df2 = pd.concat([df2.drop([i], axis=1), pd.DataFrame(pd.get_dummies(df2[i], prefix=str(i)))],axis=1)\n",
        "        \n",
        "df2.shape"
      ],
      "metadata": {
        "id": "D0t9zgzbGKhu",
        "outputId": "35134d3d-dd15-4c2e-b4cd-fe0ee4be9ce9",
        "colab": {
          "base_uri": "https://localhost:8080/"
        }
      },
      "execution_count": 69,
      "outputs": [
        {
          "output_type": "execute_result",
          "data": {
            "text/plain": [
              "(6435, 67)"
            ]
          },
          "metadata": {},
          "execution_count": 69
        }
      ]
    },
    {
      "cell_type": "code",
      "source": [
        "df3 = df2.copy()\n",
        "\n",
        "#Apenas analisando os possíveis outlers e se necessário deletar\n",
        "for i in valuesFeature:\n",
        "    Q1 = df3[i].quantile(0.25)\n",
        "    Q3 = df3[i].quantile(0.75)\n",
        "    IQR = Q3 - Q1\n",
        "    #Calculos comumente aceitos para encontrar outliers\n",
        "    print(\"Coluna {} tem {} outliers (para cima)\".format(i, rows - df3[df3[i] <= (Q3+(1.5*IQR))].shape[0]))\n",
        "    print(\"Coluna {} tem {} outliers (para baixo)\".format(i, rows - df3[df3[i] >= (Q1-(1.5*IQR))].shape[0]))\n",
        "    #remover os outliers (nesse caso, foi opitado por não fazer)\n",
        "    #df3 = df3[df3[i] <= (Q3+(1.5*IQR))]\n",
        "    #df3 = df3[df3[i] >= (Q1-(1.5*IQR))]\n",
        "    #df3 = df3.reset_index(drop=True) #resetar os index\n",
        "'''\n",
        " Como a maioria dos outliers estão relacionadas a taxa de desemprego e os demais na temperatura,\n",
        " decidi por manter os registros para evitar tirar o enfluenciamento dessas variáveis nas vendas\n",
        "'''"
      ],
      "metadata": {
        "id": "HdMV-j8QLza2",
        "outputId": "6eb8c734-8235-4664-93ad-42de82c031fd",
        "colab": {
          "base_uri": "https://localhost:8080/"
        }
      },
      "execution_count": 79,
      "outputs": [
        {
          "output_type": "stream",
          "name": "stdout",
          "text": [
            "Coluna Unemployment tem 378 outliers (para cima)\n",
            "Coluna Unemployment tem 103 outliers (para baixo)\n",
            "Coluna Fuel_Price tem 0 outliers (para cima)\n",
            "Coluna Fuel_Price tem 0 outliers (para baixo)\n",
            "Coluna CPI tem 0 outliers (para cima)\n",
            "Coluna CPI tem 0 outliers (para baixo)\n",
            "Coluna Temperature tem 0 outliers (para cima)\n",
            "Coluna Temperature tem 3 outliers (para baixo)\n"
          ]
        }
      ]
    },
    {
      "cell_type": "code",
      "source": [
        "#Apenas voltando a variavel para df\n",
        "df = df3.copy()\n",
        "df.info()"
      ],
      "metadata": {
        "id": "MgX4BrtmTFIJ",
        "outputId": "26ad1488-9c93-49f8-fd80-499cf5ee865e",
        "colab": {
          "base_uri": "https://localhost:8080/"
        }
      },
      "execution_count": 88,
      "outputs": [
        {
          "output_type": "stream",
          "name": "stdout",
          "text": [
            "<class 'pandas.core.frame.DataFrame'>\n",
            "Int64Index: 6435 entries, 0 to 6434\n",
            "Data columns (total 67 columns):\n",
            " #   Column        Non-Null Count  Dtype  \n",
            "---  ------        --------------  -----  \n",
            " 0   Weekly_Sales  6435 non-null   float64\n",
            " 1   Holiday_Flag  6435 non-null   uint8  \n",
            " 2   Temperature   6435 non-null   float64\n",
            " 3   Fuel_Price    6435 non-null   float64\n",
            " 4   CPI           6435 non-null   float64\n",
            " 5   Unemployment  6435 non-null   float64\n",
            " 6   day           6435 non-null   int64  \n",
            " 7   year_2010     6435 non-null   uint8  \n",
            " 8   year_2011     6435 non-null   uint8  \n",
            " 9   year_2012     6435 non-null   uint8  \n",
            " 10  month_1       6435 non-null   uint8  \n",
            " 11  month_2       6435 non-null   uint8  \n",
            " 12  month_3       6435 non-null   uint8  \n",
            " 13  month_4       6435 non-null   uint8  \n",
            " 14  month_5       6435 non-null   uint8  \n",
            " 15  month_6       6435 non-null   uint8  \n",
            " 16  month_7       6435 non-null   uint8  \n",
            " 17  month_8       6435 non-null   uint8  \n",
            " 18  month_9       6435 non-null   uint8  \n",
            " 19  month_10      6435 non-null   uint8  \n",
            " 20  month_11      6435 non-null   uint8  \n",
            " 21  month_12      6435 non-null   uint8  \n",
            " 22  Store_1       6435 non-null   uint8  \n",
            " 23  Store_2       6435 non-null   uint8  \n",
            " 24  Store_3       6435 non-null   uint8  \n",
            " 25  Store_4       6435 non-null   uint8  \n",
            " 26  Store_5       6435 non-null   uint8  \n",
            " 27  Store_6       6435 non-null   uint8  \n",
            " 28  Store_7       6435 non-null   uint8  \n",
            " 29  Store_8       6435 non-null   uint8  \n",
            " 30  Store_9       6435 non-null   uint8  \n",
            " 31  Store_10      6435 non-null   uint8  \n",
            " 32  Store_11      6435 non-null   uint8  \n",
            " 33  Store_12      6435 non-null   uint8  \n",
            " 34  Store_13      6435 non-null   uint8  \n",
            " 35  Store_14      6435 non-null   uint8  \n",
            " 36  Store_15      6435 non-null   uint8  \n",
            " 37  Store_16      6435 non-null   uint8  \n",
            " 38  Store_17      6435 non-null   uint8  \n",
            " 39  Store_18      6435 non-null   uint8  \n",
            " 40  Store_19      6435 non-null   uint8  \n",
            " 41  Store_20      6435 non-null   uint8  \n",
            " 42  Store_21      6435 non-null   uint8  \n",
            " 43  Store_22      6435 non-null   uint8  \n",
            " 44  Store_23      6435 non-null   uint8  \n",
            " 45  Store_24      6435 non-null   uint8  \n",
            " 46  Store_25      6435 non-null   uint8  \n",
            " 47  Store_26      6435 non-null   uint8  \n",
            " 48  Store_27      6435 non-null   uint8  \n",
            " 49  Store_28      6435 non-null   uint8  \n",
            " 50  Store_29      6435 non-null   uint8  \n",
            " 51  Store_30      6435 non-null   uint8  \n",
            " 52  Store_31      6435 non-null   uint8  \n",
            " 53  Store_32      6435 non-null   uint8  \n",
            " 54  Store_33      6435 non-null   uint8  \n",
            " 55  Store_34      6435 non-null   uint8  \n",
            " 56  Store_35      6435 non-null   uint8  \n",
            " 57  Store_36      6435 non-null   uint8  \n",
            " 58  Store_37      6435 non-null   uint8  \n",
            " 59  Store_38      6435 non-null   uint8  \n",
            " 60  Store_39      6435 non-null   uint8  \n",
            " 61  Store_40      6435 non-null   uint8  \n",
            " 62  Store_41      6435 non-null   uint8  \n",
            " 63  Store_42      6435 non-null   uint8  \n",
            " 64  Store_43      6435 non-null   uint8  \n",
            " 65  Store_44      6435 non-null   uint8  \n",
            " 66  Store_45      6435 non-null   uint8  \n",
            "dtypes: float64(5), int64(1), uint8(61)\n",
            "memory usage: 735.2 KB\n"
          ]
        }
      ]
    },
    {
      "cell_type": "markdown",
      "source": [
        ""
      ],
      "metadata": {
        "id": "Hh63oXkEVNmU"
      }
    }
  ]
}