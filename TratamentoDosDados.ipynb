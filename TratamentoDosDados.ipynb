{
  "nbformat": 4,
  "nbformat_minor": 0,
  "metadata": {
    "colab": {
      "name": "TratamentoDosDados.ipynb",
      "provenance": [],
      "authorship_tag": "ABX9TyNqDj2osH2r6k4kUQCtWiPK",
      "include_colab_link": true
    },
    "kernelspec": {
      "name": "python3",
      "display_name": "Python 3"
    },
    "language_info": {
      "name": "python"
    }
  },
  "cells": [
    {
      "cell_type": "markdown",
      "metadata": {
        "id": "view-in-github",
        "colab_type": "text"
      },
      "source": [
        "<a href=\"https://colab.research.google.com/github/dho619/TCC_Pos_IA/blob/main/TratamentoDosDados.ipynb\" target=\"_parent\"><img src=\"https://colab.research.google.com/assets/colab-badge.svg\" alt=\"Open In Colab\"/></a>"
      ]
    },
    {
      "cell_type": "code",
      "execution_count": 30,
      "metadata": {
        "id": "OZgv7Q0bnWWT",
        "outputId": "9e2003a3-a8d1-4607-f49d-eed3b41191f9",
        "colab": {
          "base_uri": "https://localhost:8080/"
        }
      },
      "outputs": [
        {
          "output_type": "stream",
          "name": "stdout",
          "text": [
            "<class 'pandas.core.frame.DataFrame'>\n",
            "RangeIndex: 6435 entries, 0 to 6434\n",
            "Data columns (total 8 columns):\n",
            " #   Column        Non-Null Count  Dtype  \n",
            "---  ------        --------------  -----  \n",
            " 0   Store         6435 non-null   int64  \n",
            " 1   Date          6435 non-null   object \n",
            " 2   Weekly_Sales  6435 non-null   float64\n",
            " 3   Holiday_Flag  6435 non-null   int64  \n",
            " 4   Temperature   6435 non-null   float64\n",
            " 5   Fuel_Price    6435 non-null   float64\n",
            " 6   CPI           6435 non-null   float64\n",
            " 7   Unemployment  6435 non-null   float64\n",
            "dtypes: float64(5), int64(2), object(1)\n",
            "memory usage: 402.3+ KB\n"
          ]
        }
      ],
      "source": [
        "import pandas as pd\n",
        "df = pd.read_csv('./Walmart.csv')\n",
        "df.info()"
      ]
    },
    {
      "cell_type": "code",
      "source": [
        "#transformando o campo de date que estava como object, para datetime\n",
        "df.Date=pd.to_datetime(df.Date)\n",
        "\n",
        "#separando a data em 3 colunas (dia, mês e ano)\n",
        "df['Day'] = df.Date.dt.day\n",
        "df['Month'] = df.Date.dt.month\n",
        "df['Year'] = df.Date.dt.year\n",
        "\n",
        "#removendo a coluna de data original\n",
        "df.drop(['Date'], axis=1, inplace=True)\n",
        "\n",
        "df.head"
      ],
      "metadata": {
        "id": "Admo0v9m8ano",
        "outputId": "25d20921-2ecf-456a-dcf4-e79c3df10b2e",
        "colab": {
          "base_uri": "https://localhost:8080/"
        }
      },
      "execution_count": 31,
      "outputs": [
        {
          "output_type": "execute_result",
          "data": {
            "text/plain": [
              "<bound method NDFrame.head of       Store  Weekly_Sales  Holiday_Flag  Temperature  Fuel_Price         CPI  \\\n",
              "0         1    1643690.90             0        42.31       2.572  211.096358   \n",
              "1         1    1641957.44             1        38.51       2.548  211.242170   \n",
              "2         1    1611968.17             0        39.93       2.514  211.289143   \n",
              "3         1    1409727.59             0        46.63       2.561  211.319643   \n",
              "4         1    1554806.68             0        46.50       2.625  211.350143   \n",
              "...     ...           ...           ...          ...         ...         ...   \n",
              "6430     45     713173.95             0        64.88       3.997  192.013558   \n",
              "6431     45     733455.07             0        64.89       3.985  192.170412   \n",
              "6432     45     734464.36             0        54.47       4.000  192.327265   \n",
              "6433     45     718125.53             0        56.47       3.969  192.330854   \n",
              "6434     45     760281.43             0        58.85       3.882  192.308899   \n",
              "\n",
              "      Unemployment  Day  Month  Year  \n",
              "0            8.106    2      5  2010  \n",
              "1            8.106    2     12  2010  \n",
              "2            8.106   19      2  2010  \n",
              "3            8.106   26      2  2010  \n",
              "4            8.106    3      5  2010  \n",
              "...            ...  ...    ...   ...  \n",
              "6430         8.684   28      9  2012  \n",
              "6431         8.667   10      5  2012  \n",
              "6432         8.667   10     12  2012  \n",
              "6433         8.667   19     10  2012  \n",
              "6434         8.667   26     10  2012  \n",
              "\n",
              "[6435 rows x 10 columns]>"
            ]
          },
          "metadata": {},
          "execution_count": 31
        }
      ]
    },
    {
      "cell_type": "code",
      "source": [
        "#Fazendo uma cópia para manter o Data Frame original\n",
        "original_df = df.copy(deep=True);"
      ],
      "metadata": {
        "id": "ndH_LAFH-Y6J"
      },
      "execution_count": 32,
      "outputs": []
    },
    {
      "cell_type": "code",
      "source": [
        "#pegando o shape\n",
        "rows,cols = original_df.shape;\n",
        "\n",
        "#removendo linhas duplicadas\n",
        "df.drop_duplicates(inplace=True);\n",
        "\n",
        "if df.shape==(rows,cols):\n",
        "    print(\"Não existe linhas duplicadas\");\n",
        "else:\n",
        "    print(\"Foram removidas {} linhas duplicadas!\".format(rows-df.shape[0]));"
      ],
      "metadata": {
        "id": "LPhew7_6_xyh",
        "outputId": "481e46db-8e57-402f-a1c7-c221451de7b5",
        "colab": {
          "base_uri": "https://localhost:8080/"
        }
      },
      "execution_count": 33,
      "outputs": [
        {
          "output_type": "stream",
          "name": "stdout",
          "text": [
            "Não existe linhas duplicadas\n"
          ]
        }
      ]
    },
    {
      "cell_type": "code",
      "source": [
        "#Verificando se existe valores null, nesse caso não tem\n",
        "df.isnull().sum().sort_values()"
      ],
      "metadata": {
        "id": "366kayILAFWY",
        "outputId": "615a93f9-f7e5-417e-d06d-79e6e8a488db",
        "colab": {
          "base_uri": "https://localhost:8080/"
        }
      },
      "execution_count": 34,
      "outputs": [
        {
          "output_type": "execute_result",
          "data": {
            "text/plain": [
              "Store           0\n",
              "Weekly_Sales    0\n",
              "Holiday_Flag    0\n",
              "Temperature     0\n",
              "Fuel_Price      0\n",
              "CPI             0\n",
              "Unemployment    0\n",
              "Day             0\n",
              "Month           0\n",
              "Year            0\n",
              "dtype: int64"
            ]
          },
          "metadata": {},
          "execution_count": 34
        }
      ]
    },
    {
      "cell_type": "code",
      "source": [
        "#Ignorar as colunas\n",
        "ignoreFeatures = ['Weekly_Sales', 'day'];\n",
        "#variável para definir até quantos valores unicos uma coluna pode ter e ainda considerada categorical\n",
        "maximumToBeCategorical = 45; #45 por ser o total de lojas\n",
        "\n",
        "#pegar as colunas, menos as ignoradas\n",
        "features = [i for i in df.columns if i not in ignoreFeatures]\n",
        "\n",
        "#pega a quantidade de valores unicos para cara coluna\n",
        "uniqueValuesForFeature = df[features].nunique().sort_values()\n",
        "\n",
        "#Adiciona nas lista se for uma coluna de categorias ou de valores\n",
        "categoricalFeature = [];\n",
        "valuesFeature = [];\n",
        "for i in range(df[features].shape[1]):\n",
        "    if uniqueValuesForFeature.values[i]<=maximumToBeCategorical:\n",
        "        categoricalFeature.append(uniqueValuesForFeature.index[i])\n",
        "    else:\n",
        "        valuesFeature.append(uniqueValuesForFeature.index[i])\n",
        "print(categoricalFeature)\n",
        "print(valuesFeature)"
      ],
      "metadata": {
        "colab": {
          "base_uri": "https://localhost:8080/"
        },
        "id": "vQz2nKoFE8n4",
        "outputId": "5abc755c-26e5-4d56-f5be-460b66280009"
      },
      "execution_count": 35,
      "outputs": [
        {
          "output_type": "stream",
          "name": "stdout",
          "text": [
            "['Holiday_Flag', 'Year', 'Month', 'Day', 'Store']\n",
            "['Unemployment', 'Fuel_Price', 'CPI', 'Temperature']\n"
          ]
        }
      ]
    },
    {
      "cell_type": "code",
      "source": [
        "df2 = df.copy()\n",
        "\n",
        "#Transforma cada valor unico das colunas selecionadas, em novas colunas\n",
        "#e seta como true ou false, de acordo com o valor original\n",
        "for i in categoricalFeature:\n",
        "    if df2[i].nunique()==2:\n",
        "        df2[i]=pd.get_dummies(df2[i], drop_first=True, prefix=str(i))\n",
        "    if (df2[i].nunique()>2):\n",
        "        df2 = pd.concat([df2.drop([i], axis=1), pd.DataFrame(pd.get_dummies(df2[i], prefix=str(i)))],axis=1)\n",
        "        \n",
        "df2.shape"
      ],
      "metadata": {
        "id": "D0t9zgzbGKhu",
        "outputId": "8182d7b3-e276-4990-f84d-fc1cfb156021",
        "colab": {
          "base_uri": "https://localhost:8080/"
        }
      },
      "execution_count": 36,
      "outputs": [
        {
          "output_type": "execute_result",
          "data": {
            "text/plain": [
              "(6435, 97)"
            ]
          },
          "metadata": {},
          "execution_count": 36
        }
      ]
    },
    {
      "cell_type": "code",
      "source": [
        "df3 = df2.copy()\n",
        "\n",
        "#Apenas analisando os possíveis outlers e se necessário deletar\n",
        "for i in valuesFeature:\n",
        "    Q1 = df3[i].quantile(0.25)\n",
        "    Q3 = df3[i].quantile(0.75)\n",
        "    IQR = Q3 - Q1\n",
        "    #Calculos comumente aceitos para encontrar outliers\n",
        "    print(\"Coluna {} tem {} outliers (para cima)\".format(i, rows - df3[df3[i] <= (Q3+(1.5*IQR))].shape[0]))\n",
        "    print(\"Coluna {} tem {} outliers (para baixo)\".format(i, rows - df3[df3[i] >= (Q1-(1.5*IQR))].shape[0]))\n",
        "    #remover os outliers (nesse caso, foi opitado por não fazer)\n",
        "    #df3 = df3[df3[i] <= (Q3+(1.5*IQR))]\n",
        "    #df3 = df3[df3[i] >= (Q1-(1.5*IQR))]\n",
        "    #df3 = df3.reset_index(drop=True) #resetar os index\n",
        "'''\n",
        " Como a maioria dos outliers estão relacionadas a taxa de desemprego e os demais na temperatura,\n",
        " decidi por manter os registros para evitar tirar o enfluenciamento dessas variáveis nas vendas\n",
        "'''"
      ],
      "metadata": {
        "id": "HdMV-j8QLza2",
        "outputId": "6d50b90b-fd01-4b13-bcac-b9d390e3e513",
        "colab": {
          "base_uri": "https://localhost:8080/",
          "height": 192
        }
      },
      "execution_count": 37,
      "outputs": [
        {
          "output_type": "stream",
          "name": "stdout",
          "text": [
            "Coluna Unemployment tem 378 outliers (para cima)\n",
            "Coluna Unemployment tem 103 outliers (para baixo)\n",
            "Coluna Fuel_Price tem 0 outliers (para cima)\n",
            "Coluna Fuel_Price tem 0 outliers (para baixo)\n",
            "Coluna CPI tem 0 outliers (para cima)\n",
            "Coluna CPI tem 0 outliers (para baixo)\n",
            "Coluna Temperature tem 0 outliers (para cima)\n",
            "Coluna Temperature tem 3 outliers (para baixo)\n"
          ]
        },
        {
          "output_type": "execute_result",
          "data": {
            "text/plain": [
              "'\\n Como a maioria dos outliers estão relacionadas a taxa de desemprego e os demais na temperatura,\\n decidi por manter os registros para evitar tirar o enfluenciamento dessas variáveis nas vendas\\n'"
            ],
            "application/vnd.google.colaboratory.intrinsic+json": {
              "type": "string"
            }
          },
          "metadata": {},
          "execution_count": 37
        }
      ]
    },
    {
      "cell_type": "code",
      "source": [
        "#Apenas voltando a variavel para df\n",
        "df = df3.copy()\n",
        "df.info()"
      ],
      "metadata": {
        "id": "MgX4BrtmTFIJ",
        "outputId": "d351b11c-ccf6-48bc-d8e9-b4b3556cfab8",
        "colab": {
          "base_uri": "https://localhost:8080/"
        }
      },
      "execution_count": 38,
      "outputs": [
        {
          "output_type": "stream",
          "name": "stdout",
          "text": [
            "<class 'pandas.core.frame.DataFrame'>\n",
            "Int64Index: 6435 entries, 0 to 6434\n",
            "Data columns (total 97 columns):\n",
            " #   Column        Non-Null Count  Dtype  \n",
            "---  ------        --------------  -----  \n",
            " 0   Weekly_Sales  6435 non-null   float64\n",
            " 1   Holiday_Flag  6435 non-null   uint8  \n",
            " 2   Temperature   6435 non-null   float64\n",
            " 3   Fuel_Price    6435 non-null   float64\n",
            " 4   CPI           6435 non-null   float64\n",
            " 5   Unemployment  6435 non-null   float64\n",
            " 6   Year_2010     6435 non-null   uint8  \n",
            " 7   Year_2011     6435 non-null   uint8  \n",
            " 8   Year_2012     6435 non-null   uint8  \n",
            " 9   Month_1       6435 non-null   uint8  \n",
            " 10  Month_2       6435 non-null   uint8  \n",
            " 11  Month_3       6435 non-null   uint8  \n",
            " 12  Month_4       6435 non-null   uint8  \n",
            " 13  Month_5       6435 non-null   uint8  \n",
            " 14  Month_6       6435 non-null   uint8  \n",
            " 15  Month_7       6435 non-null   uint8  \n",
            " 16  Month_8       6435 non-null   uint8  \n",
            " 17  Month_9       6435 non-null   uint8  \n",
            " 18  Month_10      6435 non-null   uint8  \n",
            " 19  Month_11      6435 non-null   uint8  \n",
            " 20  Month_12      6435 non-null   uint8  \n",
            " 21  Day_1         6435 non-null   uint8  \n",
            " 22  Day_2         6435 non-null   uint8  \n",
            " 23  Day_3         6435 non-null   uint8  \n",
            " 24  Day_4         6435 non-null   uint8  \n",
            " 25  Day_5         6435 non-null   uint8  \n",
            " 26  Day_6         6435 non-null   uint8  \n",
            " 27  Day_7         6435 non-null   uint8  \n",
            " 28  Day_8         6435 non-null   uint8  \n",
            " 29  Day_9         6435 non-null   uint8  \n",
            " 30  Day_10        6435 non-null   uint8  \n",
            " 31  Day_11        6435 non-null   uint8  \n",
            " 32  Day_12        6435 non-null   uint8  \n",
            " 33  Day_13        6435 non-null   uint8  \n",
            " 34  Day_14        6435 non-null   uint8  \n",
            " 35  Day_15        6435 non-null   uint8  \n",
            " 36  Day_16        6435 non-null   uint8  \n",
            " 37  Day_17        6435 non-null   uint8  \n",
            " 38  Day_18        6435 non-null   uint8  \n",
            " 39  Day_19        6435 non-null   uint8  \n",
            " 40  Day_20        6435 non-null   uint8  \n",
            " 41  Day_21        6435 non-null   uint8  \n",
            " 42  Day_22        6435 non-null   uint8  \n",
            " 43  Day_23        6435 non-null   uint8  \n",
            " 44  Day_24        6435 non-null   uint8  \n",
            " 45  Day_25        6435 non-null   uint8  \n",
            " 46  Day_26        6435 non-null   uint8  \n",
            " 47  Day_27        6435 non-null   uint8  \n",
            " 48  Day_28        6435 non-null   uint8  \n",
            " 49  Day_29        6435 non-null   uint8  \n",
            " 50  Day_30        6435 non-null   uint8  \n",
            " 51  Day_31        6435 non-null   uint8  \n",
            " 52  Store_1       6435 non-null   uint8  \n",
            " 53  Store_2       6435 non-null   uint8  \n",
            " 54  Store_3       6435 non-null   uint8  \n",
            " 55  Store_4       6435 non-null   uint8  \n",
            " 56  Store_5       6435 non-null   uint8  \n",
            " 57  Store_6       6435 non-null   uint8  \n",
            " 58  Store_7       6435 non-null   uint8  \n",
            " 59  Store_8       6435 non-null   uint8  \n",
            " 60  Store_9       6435 non-null   uint8  \n",
            " 61  Store_10      6435 non-null   uint8  \n",
            " 62  Store_11      6435 non-null   uint8  \n",
            " 63  Store_12      6435 non-null   uint8  \n",
            " 64  Store_13      6435 non-null   uint8  \n",
            " 65  Store_14      6435 non-null   uint8  \n",
            " 66  Store_15      6435 non-null   uint8  \n",
            " 67  Store_16      6435 non-null   uint8  \n",
            " 68  Store_17      6435 non-null   uint8  \n",
            " 69  Store_18      6435 non-null   uint8  \n",
            " 70  Store_19      6435 non-null   uint8  \n",
            " 71  Store_20      6435 non-null   uint8  \n",
            " 72  Store_21      6435 non-null   uint8  \n",
            " 73  Store_22      6435 non-null   uint8  \n",
            " 74  Store_23      6435 non-null   uint8  \n",
            " 75  Store_24      6435 non-null   uint8  \n",
            " 76  Store_25      6435 non-null   uint8  \n",
            " 77  Store_26      6435 non-null   uint8  \n",
            " 78  Store_27      6435 non-null   uint8  \n",
            " 79  Store_28      6435 non-null   uint8  \n",
            " 80  Store_29      6435 non-null   uint8  \n",
            " 81  Store_30      6435 non-null   uint8  \n",
            " 82  Store_31      6435 non-null   uint8  \n",
            " 83  Store_32      6435 non-null   uint8  \n",
            " 84  Store_33      6435 non-null   uint8  \n",
            " 85  Store_34      6435 non-null   uint8  \n",
            " 86  Store_35      6435 non-null   uint8  \n",
            " 87  Store_36      6435 non-null   uint8  \n",
            " 88  Store_37      6435 non-null   uint8  \n",
            " 89  Store_38      6435 non-null   uint8  \n",
            " 90  Store_39      6435 non-null   uint8  \n",
            " 91  Store_40      6435 non-null   uint8  \n",
            " 92  Store_41      6435 non-null   uint8  \n",
            " 93  Store_42      6435 non-null   uint8  \n",
            " 94  Store_43      6435 non-null   uint8  \n",
            " 95  Store_44      6435 non-null   uint8  \n",
            " 96  Store_45      6435 non-null   uint8  \n",
            "dtypes: float64(5), uint8(92)\n",
            "memory usage: 879.8 KB\n"
          ]
        }
      ]
    },
    {
      "cell_type": "code",
      "source": [
        "df.to_csv(\"Walmart_tratado.csv\")"
      ],
      "metadata": {
        "id": "fR8hDSfaMsKL"
      },
      "execution_count": 39,
      "outputs": []
    },
    {
      "cell_type": "markdown",
      "source": [
        ""
      ],
      "metadata": {
        "id": "Hh63oXkEVNmU"
      }
    }
  ]
}